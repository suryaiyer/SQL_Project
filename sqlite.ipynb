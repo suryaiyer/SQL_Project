{
 "cells": [
  {
   "cell_type": "code",
   "execution_count": 1,
   "metadata": {},
   "outputs": [],
   "source": [
    "import sqlite3"
   ]
  },
  {
   "cell_type": "code",
   "execution_count": 2,
   "metadata": {},
   "outputs": [],
   "source": [
    "conn = sqlite3.connect('db/country_club.db')\n",
    "cursorObj = conn.cursor()"
   ]
  },
  {
   "cell_type": "markdown",
   "metadata": {},
   "source": [
    "Q10: Produce a list of facilities with a total revenue less than 1000.\n",
    "The output of facility name and total revenue, sorted by revenue. Remember\n",
    "that there's a different cost for guests and members!"
   ]
  },
  {
   "cell_type": "code",
   "execution_count": 3,
   "metadata": {},
   "outputs": [
    {
     "name": "stdout",
     "output_type": "stream",
     "text": [
      "[('Table Tennis', 180), ('Snooker Table', 240), ('Pool Table', 270), ('Badminton Court', 1906.5), ('Squash Court', 13468.0), ('Tennis Court 1', 13860), ('Tennis Court 2', 14310), ('Massage Room 2', 14454.599999999995), ('Massage Room 1', 50351.600000000275)]\n"
     ]
    }
   ],
   "source": [
    "cursorObj.execute('\\\n",
    "SELECT \\\n",
    "\tFacilities.name as name, \\\n",
    "\tSUM(slots * \\\n",
    "\t\tCASE WHEN Bookings.memid = 0 THEN guestcost \\\n",
    "\t\t\tELSE membercost END \\\n",
    "\t\t\t\t) as revenue \\\n",
    "FROM Facilities \\\n",
    "INNER JOIN Bookings \\\n",
    "ON Facilities.facid = Bookings.facid \\\n",
    "GROUP BY name \\\n",
    "ORDER BY revenue')\n",
    "\n",
    "print(cursorObj.fetchall())"
   ]
  },
  {
   "cell_type": "markdown",
   "metadata": {},
   "source": [
    "Q11: Produce a report of members and who recommended them in alphabetic surname,firstname order "
   ]
  },
  {
   "cell_type": "code",
   "execution_count": 4,
   "metadata": {},
   "outputs": [
    {
     "name": "stdout",
     "output_type": "stream",
     "text": [
      "[('Bader', 'Florence', 'Stibbons', 'Ponder'), ('Baker', 'Anne', 'Stibbons', 'Ponder'), ('Baker', 'Timothy', 'Farrell', 'Jemima'), ('Boothe', 'Tim', 'Rownam', 'Tim'), ('Butters', 'Gerald', 'Smith', 'Darren'), ('Coplin', 'Joan', 'Baker', 'Timothy'), ('Crumpet', 'Erica', 'Smith', 'Tracy'), ('Dare', 'Nancy', 'Joplette', 'Janice'), ('Farrell', 'David', None, None), ('Farrell', 'Jemima', None, None), ('Genting', 'Matthew', 'Butters', 'Gerald'), ('Hunt', 'John', 'Purview', 'Millicent'), ('Jones', 'David', 'Joplette', 'Janice'), ('Jones', 'Douglas', 'Jones', 'David'), ('Joplette', 'Janice', 'Smith', 'Darren'), ('Mackenzie', 'Anna', 'Smith', 'Darren'), ('Owen', 'Charles', 'Smith', 'Darren'), ('Pinker', 'David', 'Farrell', 'Jemima'), ('Purview', 'Millicent', 'Smith', 'Tracy'), ('Rownam', 'Tim', None, None), ('Rumney', 'Henrietta', 'Genting', 'Matthew'), ('Sarwin', 'Ramnaresh', 'Bader', 'Florence'), ('Smith', 'Darren', None, None), ('Smith', 'Darren', None, None), ('Smith', 'Jack', 'Smith', 'Darren'), ('Smith', 'Tracy', None, None), ('Stibbons', 'Ponder', 'Tracy', 'Burton'), ('Tracy', 'Burton', None, None), ('Tupperware', 'Hyacinth', None, None), ('Worthington-Smyth', 'Henry', 'Smith', 'Tracy')]\n"
     ]
    }
   ],
   "source": [
    "cursorObj.execute('\\\n",
    "SELECT \\\n",
    "\tm.surname as Member_surname, \\\n",
    "\tm.firstname as Member_firstname, \\\n",
    "\tr.surname as Recommender_surname, \\\n",
    "\tr.firstname as Recommender_firstname \\\n",
    "FROM (SELECT * FROM `Members` WHERE memid != 0) m \\\n",
    "LEFT JOIN (SELECT * FROM `Members` WHERE memid != 0) r \\\n",
    "ON m.recommendedby = r.memid \\\n",
    "ORDER BY Member_surname,Member_firstname ') \n",
    "\n",
    "print(cursorObj.fetchall())"
   ]
  },
  {
   "cell_type": "markdown",
   "metadata": {},
   "source": [
    " Q12: Find the facilities with their usage by member, but not guests */"
   ]
  },
  {
   "cell_type": "code",
   "execution_count": 5,
   "metadata": {},
   "outputs": [
    {
     "name": "stdout",
     "output_type": "stream",
     "text": [
      "[('Pool Table', 10, 'Charles', 30), ('Pool Table', 13, 'Jemima', 30), ('Massage Room 1', 21, 'Anna', 60), ('Massage Room 1', 22, 'Joan', 60), ('Massage Room 1', 29, 'Henry', 60), ('Massage Room 1', 33, 'Hyacinth', 60), ('Massage Room 2', 5, 'Gerald', 60), ('Massage Room 2', 14, 'Jack', 60), ('Massage Room 2', 20, 'Matthew', 60), ('Pool Table', 26, 'Douglas', 60), ('Snooker Table', 20, 'Matthew', 60), ('Snooker Table', 28, 'David', 60), ('Snooker Table', 30, 'Millicent', 60), ('Squash Court', 22, 'Joan', 60), ('Squash Court', 26, 'Douglas', 60), ('Squash Court', 28, 'David', 60), ('Squash Court', 30, 'Millicent', 60), ('Squash Court', 33, 'Hyacinth', 60), ('Squash Court', 35, 'John', 60), ('Table Tennis', 5, 'Gerald', 60), ('Table Tennis', 12, 'Anne', 60), ('Table Tennis', 35, 'John', 60), ('Badminton Court', 33, 'Hyacinth', 90), ('Pool Table', 27, 'Henrietta', 90), ('Tennis Court 1', 9, 'Ponder', 90), ('Tennis Court 1', 13, 'Jemima', 90), ('Tennis Court 1', 15, 'Florence', 90), ('Tennis Court 1', 20, 'Matthew', 90), ('Tennis Court 1', 36, 'Erica', 90), ('Tennis Court 2', 13, 'Jemima', 90), ('Tennis Court 2', 14, 'Jack', 90), ('Tennis Court 2', 27, 'Henrietta', 90), ('Tennis Court 2', 28, 'David', 90), ('Tennis Court 2', 30, 'Millicent', 90), ('Massage Room 1', 36, 'Erica', 120), ('Massage Room 2', 3, 'Tim', 120), ('Massage Room 2', 4, 'Janice', 120), ('Massage Room 2', 10, 'Charles', 120), ('Massage Room 2', 12, 'Anne', 120), ('Massage Room 2', 15, 'Florence', 120), ('Massage Room 2', 22, 'Joan', 120), ('Snooker Table', 11, 'David', 120), ('Squash Court', 9, 'Ponder', 120), ('Squash Court', 15, 'Florence', 120), ('Squash Court', 21, 'Anna', 120), ('Squash Court', 24, 'Ramnaresh', 120), ('Squash Court', 27, 'Henrietta', 120), ('Table Tennis', 36, 'Erica', 120), ('Pool Table', 30, 'Millicent', 150), ('Badminton Court', 6, 'Burton', 180), ('Badminton Court', 26, 'Douglas', 180), ('Badminton Court', 30, 'Millicent', 180), ('Badminton Court', 35, 'John', 180), ('Badminton Court', 36, 'Erica', 180), ('Massage Room 1', 12, 'Anne', 180), ('Massage Room 1', 17, 'David', 180), ('Massage Room 1', 35, 'John', 180), ('Massage Room 2', 24, 'Ramnaresh', 180), ('Pool Table', 5, 'Gerald', 180), ('Squash Court', 17, 'David', 180), ('Table Tennis', 9, 'Ponder', 180), ('Table Tennis', 24, 'Ramnaresh', 180), ('Table Tennis', 29, 'Henry', 180), ('Tennis Court 2', 2, 'Tracy', 180), ('Pool Table', 14, 'Jack', 210), ('Massage Room 2', 11, 'David', 240), ('Pool Table', 11, 'David', 240), ('Table Tennis', 8, 'Tim', 240), ('Pool Table', 17, 'David', 270), ('Pool Table', 33, 'Hyacinth', 270), ('Tennis Court 2', 5, 'Gerald', 270), ('Tennis Court 2', 6, 'Burton', 270), ('Massage Room 2', 7, 'Nancy', 300), ('Snooker Table', 14, 'Jack', 300), ('Squash Court', 16, 'Timothy', 300), ('Table Tennis', 7, 'Nancy', 300), ('Table Tennis', 14, 'Jack', 300), ('Pool Table', 22, 'Joan', 330), ('Badminton Court', 3, 'Tim', 360), ('Massage Room 1', 2, 'Tracy', 360), ('Pool Table', 9, 'Ponder', 360), ('Pool Table', 12, 'Anne', 360), ('Snooker Table', 33, 'Hyacinth', 360), ('Squash Court', 2, 'Tracy', 360), ('Tennis Court 1', 8, 'Tim', 360), ('Tennis Court 1', 35, 'John', 360), ('Tennis Court 2', 35, 'John', 360), ('Pool Table', 24, 'Ramnaresh', 390), ('Snooker Table', 21, 'Anna', 420), ('Squash Court', 10, 'Charles', 420), ('Table Tennis', 30, 'Millicent', 420), ('Badminton Court', 29, 'Henry', 450), ('Tennis Court 1', 24, 'Ramnaresh', 450), ('Massage Room 1', 24, 'Ramnaresh', 480), ('Squash Court', 11, 'David', 480), ('Squash Court', 13, 'Jemima', 480), ('Badminton Court', 10, 'Charles', 540), ('Pool Table', 20, 'Matthew', 540), ('Squash Court', 5, 'Gerald', 540), ('Table Tennis', 4, 'Janice', 540), ('Tennis Court 1', 3, 'Tim', 540), ('Tennis Court 1', 12, 'Anne', 540), ('Tennis Court 1', 28, 'David', 540), ('Tennis Court 2', 3, 'Tim', 540), ('Pool Table', 7, 'Nancy', 570), ('Snooker Table', 22, 'Joan', 600), ('Badminton Court', 13, 'Jemima', 630), ('Badminton Court', 16, 'Timothy', 630), ('Badminton Court', 17, 'David', 630), ('Badminton Court', 24, 'Ramnaresh', 630), ('Tennis Court 1', 22, 'Joan', 630), ('Tennis Court 2', 16, 'Timothy', 630), ('Massage Room 1', 10, 'Charles', 660), ('Squash Court', 14, 'Jack', 660), ('Table Tennis', 11, 'David', 660), ('Pool Table', 15, 'Florence', 690), ('Badminton Court', 11, 'David', 720), ('Massage Room 1', 4, 'Janice', 720), ('Snooker Table', 1, 'Darren', 720), ('Squash Court', 8, 'Tim', 720), ('Table Tennis', 13, 'Jemima', 720), ('Tennis Court 2', 4, 'Janice', 720), ('Tennis Court 2', 15, 'Florence', 720), ('Pool Table', 28, 'David', 750), ('Pool Table', 8, 'Tim', 780), ('Badminton Court', 15, 'Florence', 810), ('Pool Table', 4, 'Janice', 810), ('Tennis Court 1', 26, 'Douglas', 810), ('Pool Table', 1, 'Darren', 840), ('Snooker Table', 27, 'Henrietta', 840), ('Badminton Court', 7, 'Nancy', 900), ('Badminton Court', 12, 'Anne', 900), ('Pool Table', 6, 'Burton', 900), ('Squash Court', 1, 'Darren', 900), ('Squash Court', 4, 'Janice', 900), ('Snooker Table', 17, 'David', 960), ('Table Tennis', 21, 'Anna', 960), ('Tennis Court 2', 7, 'Nancy', 990), ('Table Tennis', 17, 'David', 1020), ('Badminton Court', 8, 'Tim', 1080), ('Badminton Court', 14, 'Jack', 1080), ('Snooker Table', 24, 'Ramnaresh', 1080), ('Tennis Court 2', 24, 'Ramnaresh', 1080), ('Pool Table', 29, 'Henry', 1110), ('Massage Room 1', 7, 'Nancy', 1140), ('Massage Room 1', 9, 'Ponder', 1200), ('Massage Room 1', 11, 'David', 1200), ('Snooker Table', 6, 'Burton', 1200), ('Snooker Table', 9, 'Ponder', 1200), ('Snooker Table', 10, 'Charles', 1320), ('Snooker Table', 13, 'Jemima', 1320), ('Tennis Court 1', 16, 'Timothy', 1350), ('Snooker Table', 7, 'Nancy', 1380), ('Table Tennis', 22, 'Joan', 1380), ('Badminton Court', 9, 'Ponder', 1440), ('Table Tennis', 6, 'Burton', 1440), ('Table Tennis', 16, 'Timothy', 1440), ('Massage Room 1', 16, 'Timothy', 1500), ('Table Tennis', 10, 'Charles', 1500), ('Tennis Court 1', 10, 'Charles', 1530), ('Tennis Court 1', 17, 'David', 1530), ('Massage Room 1', 20, 'Matthew', 1560), ('Massage Room 1', 14, 'Jack', 1620), ('Table Tennis', 20, 'Matthew', 1620), ('Table Tennis', 1, 'Darren', 1680), ('Table Tennis', 2, 'Tracy', 1680), ('Tennis Court 1', 4, 'Janice', 1710), ('Tennis Court 2', 1, 'Darren', 1710), ('Massage Room 1', 1, 'Darren', 1740), ('Massage Room 1', 6, 'Burton', 1860), ('Badminton Court', 5, 'Gerald', 1890), ('Pool Table', 2, 'Tracy', 1920), ('Massage Room 1', 5, 'Gerald', 1980), ('Snooker Table', 15, 'Florence', 1980), ('Massage Room 1', 13, 'Jemima', 2040), ('Snooker Table', 5, 'Gerald', 2160), ('Tennis Court 1', 14, 'Jack', 2250), ('Massage Room 1', 8, 'Tim', 2280), ('Squash Court', 6, 'Burton', 2340), ('Tennis Court 1', 7, 'Nancy', 2430), ('Pool Table', 21, 'Anna', 2490), ('Tennis Court 1', 11, 'David', 2520), ('Table Tennis', 15, 'Florence', 2580), ('Snooker Table', 2, 'Tracy', 2700), ('Snooker Table', 8, 'Tim', 2700), ('Tennis Court 1', 2, 'Tracy', 2790), ('Tennis Court 1', 6, 'Burton', 2790), ('Pool Table', 16, 'Timothy', 2850), ('Badminton Court', 21, 'Anna', 2880), ('Tennis Court 2', 9, 'Ponder', 2880), ('Tennis Court 2', 11, 'David', 2970), ('Badminton Court', 2, 'Tracy', 3060), ('Squash Court', 12, 'Anne', 3300), ('Tennis Court 2', 12, 'Anne', 3420), ('Tennis Court 2', 10, 'Charles', 4230), ('Snooker Table', 4, 'Janice', 4260), ('Table Tennis', 3, 'Tim', 4500), ('Tennis Court 2', 8, 'Tim', 5040), ('Tennis Court 1', 5, 'Gerald', 5130), ('Massage Room 1', 3, 'Tim', 5280), ('Pool Table', 3, 'Tim', 8460), ('Badminton Court', 1, 'Darren', 12960)]\n"
     ]
    }
   ],
   "source": [
    "cursorObj.execute('\\\n",
    "SELECT \\\n",
    "\tname, \\\n",
    "\tm.memid, \\\n",
    "\tm.firstname, \\\n",
    "\tSUM(slots*30) as Minutes_used \\\n",
    "FROM \\\n",
    "(SELECT * FROM `Members` WHERE memid != 0) m \\\n",
    " INNER JOIN (SELECT * FROM `Bookings` WHERE memid != 0) b \\\n",
    " ON m.memid = b.memid \\\n",
    " INNER JOIN `Facilities` f \\\n",
    " ON b.facid = f.facid \\\n",
    "GROUP BY name, m.memid, m.firstname \\\n",
    "ORDER BY Minutes_used ') \n",
    "\n",
    "print(cursorObj.fetchall())"
   ]
  },
  {
   "cell_type": "markdown",
   "metadata": {},
   "source": [
    " Q13: Find the facilities usage by month, but not guests \n"
   ]
  },
  {
   "cell_type": "code",
   "execution_count": 6,
   "metadata": {},
   "outputs": [
    {
     "name": "stdout",
     "output_type": "stream",
     "text": [
      "[('Badminton Court', '07', 4950), ('Badminton Court', '08', 12420), ('Badminton Court', '09', 15210), ('Massage Room 1', '07', 4980), ('Massage Room 1', '08', 9480), ('Massage Room 1', '09', 12060), ('Massage Room 2', '07', 240), ('Massage Room 2', '08', 540), ('Massage Room 2', '09', 840), ('Pool Table', '07', 3300), ('Pool Table', '08', 9090), ('Pool Table', '09', 13290), ('Snooker Table', '07', 4200), ('Snooker Table', '08', 9480), ('Snooker Table', '09', 12120), ('Squash Court', '07', 1500), ('Squash Court', '08', 5520), ('Squash Court', '09', 5520), ('Table Tennis', '07', 2940), ('Table Tennis', '08', 8880), ('Table Tennis', '09', 12000), ('Tennis Court 1', '07', 6030), ('Tennis Court 1', '08', 10170), ('Tennis Court 1', '09', 12510), ('Tennis Court 2', '07', 3690), ('Tennis Court 2', '08', 10350), ('Tennis Court 2', '09', 12420)]\n"
     ]
    }
   ],
   "source": [
    "cursorObj.execute(\"\\\n",
    "SELECT \\\n",
    "    name, \\\n",
    "    strftime('%m', starttime) as month, \\\n",
    "    SUM(slots*30) as Minutes_used \\\n",
    "FROM (SELECT * FROM Bookings WHERE memid != 0) b \\\n",
    "INNER JOIN Facilities f \\\n",
    "ON b.facid = f.facid \\\n",
    "GROUP by name, month\")\n",
    "\n",
    "print(cursorObj.fetchall())\n"
   ]
  }
 ],
 "metadata": {
  "kernelspec": {
   "display_name": "Python 3",
   "language": "python",
   "name": "python3"
  },
  "language_info": {
   "codemirror_mode": {
    "name": "ipython",
    "version": 3
   },
   "file_extension": ".py",
   "mimetype": "text/x-python",
   "name": "python",
   "nbconvert_exporter": "python",
   "pygments_lexer": "ipython3",
   "version": "3.7.4"
  }
 },
 "nbformat": 4,
 "nbformat_minor": 2
}
